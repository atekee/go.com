{
 "cells": [
  {
   "cell_type": "code",
   "execution_count": 219,
   "id": "965c9c68-e493-4370-bc01-c6ce82c98c82",
   "metadata": {
    "tags": []
   },
   "outputs": [],
   "source": [
    "##importing python libraries\n",
    "import pandas as pd\n",
    "import numpy as np\n",
    "import seaborn as sns\n",
    "from sklearn.linear_model import LinearRegression\n",
    "import warnings\n",
    "warnings.filterwarnings('ignore')"
   ]
  },
  {
   "cell_type": "code",
   "execution_count": 220,
   "id": "04cfd797-9e80-459d-bdb2-4e9af3402a64",
   "metadata": {},
   "outputs": [],
   "source": [
    "##loading the datasets\n",
    "df = pd.read_excel('Historical_Data.xlsx')\n",
    "sales = pd.read_excel('Sales_Data.xlsx')"
   ]
  },
  {
   "cell_type": "code",
   "execution_count": 221,
   "id": "f67d1edd-6e02-406d-9fda-4d0ce835687a",
   "metadata": {},
   "outputs": [],
   "source": [
    "df.index = df.index+1 ##start index at 1\n",
    "sales.index = sales.index+1 ##start index at 1"
   ]
  },
  {
   "cell_type": "code",
   "execution_count": 222,
   "id": "3ad19936-f0dd-4a0b-98dc-4d1193acc496",
   "metadata": {},
   "outputs": [
    {
     "data": {
      "text/html": [
       "<div>\n",
       "<style scoped>\n",
       "    .dataframe tbody tr th:only-of-type {\n",
       "        vertical-align: middle;\n",
       "    }\n",
       "\n",
       "    .dataframe tbody tr th {\n",
       "        vertical-align: top;\n",
       "    }\n",
       "\n",
       "    .dataframe thead th {\n",
       "        text-align: right;\n",
       "    }\n",
       "</style>\n",
       "<table border=\"1\" class=\"dataframe\">\n",
       "  <thead>\n",
       "    <tr style=\"text-align: right;\">\n",
       "      <th></th>\n",
       "      <th>Quarter</th>\n",
       "      <th>Product_Line</th>\n",
       "      <th>Revenue</th>\n",
       "      <th>Profit</th>\n",
       "    </tr>\n",
       "  </thead>\n",
       "  <tbody>\n",
       "    <tr>\n",
       "      <th>1</th>\n",
       "      <td>Q4 2013</td>\n",
       "      <td>Cars.go.com</td>\n",
       "      <td>6085063</td>\n",
       "      <td>608506.3</td>\n",
       "    </tr>\n",
       "    <tr>\n",
       "      <th>2</th>\n",
       "      <td>Q1 2014</td>\n",
       "      <td>Cars.go.com</td>\n",
       "      <td>5663582</td>\n",
       "      <td>566358.2</td>\n",
       "    </tr>\n",
       "    <tr>\n",
       "      <th>3</th>\n",
       "      <td>Q2 2014</td>\n",
       "      <td>Cars.go.com</td>\n",
       "      <td>5701994</td>\n",
       "      <td>570199.4</td>\n",
       "    </tr>\n",
       "    <tr>\n",
       "      <th>4</th>\n",
       "      <td>Q3 2014</td>\n",
       "      <td>Cars.go.com</td>\n",
       "      <td>5691910</td>\n",
       "      <td>569191.0</td>\n",
       "    </tr>\n",
       "    <tr>\n",
       "      <th>5</th>\n",
       "      <td>Q4 2014</td>\n",
       "      <td>Cars.go.com</td>\n",
       "      <td>5906352</td>\n",
       "      <td>590635.2</td>\n",
       "    </tr>\n",
       "  </tbody>\n",
       "</table>\n",
       "</div>"
      ],
      "text/plain": [
       "   Quarter Product_Line  Revenue    Profit\n",
       "1  Q4 2013  Cars.go.com  6085063  608506.3\n",
       "2  Q1 2014  Cars.go.com  5663582  566358.2\n",
       "3  Q2 2014  Cars.go.com  5701994  570199.4\n",
       "4  Q3 2014  Cars.go.com  5691910  569191.0\n",
       "5  Q4 2014  Cars.go.com  5906352  590635.2"
      ]
     },
     "execution_count": 222,
     "metadata": {},
     "output_type": "execute_result"
    }
   ],
   "source": [
    "df.head()"
   ]
  },
  {
   "cell_type": "code",
   "execution_count": 223,
   "id": "ffcdbff7-2583-407e-843b-3e0fd7846856",
   "metadata": {},
   "outputs": [
    {
     "data": {
      "text/html": [
       "<div>\n",
       "<style scoped>\n",
       "    .dataframe tbody tr th:only-of-type {\n",
       "        vertical-align: middle;\n",
       "    }\n",
       "\n",
       "    .dataframe tbody tr th {\n",
       "        vertical-align: top;\n",
       "    }\n",
       "\n",
       "    .dataframe thead th {\n",
       "        text-align: right;\n",
       "    }\n",
       "</style>\n",
       "<table border=\"1\" class=\"dataframe\">\n",
       "  <thead>\n",
       "    <tr style=\"text-align: right;\">\n",
       "      <th></th>\n",
       "      <th>Date</th>\n",
       "      <th>Revenue</th>\n",
       "      <th>Product Line</th>\n",
       "    </tr>\n",
       "  </thead>\n",
       "  <tbody>\n",
       "    <tr>\n",
       "      <th>1</th>\n",
       "      <td>2015-01-01</td>\n",
       "      <td>108632.400</td>\n",
       "      <td>Cars.go.com</td>\n",
       "    </tr>\n",
       "    <tr>\n",
       "      <th>2</th>\n",
       "      <td>2015-01-01</td>\n",
       "      <td>31494.015</td>\n",
       "      <td>Planes.go.com</td>\n",
       "    </tr>\n",
       "    <tr>\n",
       "      <th>3</th>\n",
       "      <td>2015-01-01</td>\n",
       "      <td>239376.480</td>\n",
       "      <td>Boats.go.com</td>\n",
       "    </tr>\n",
       "    <tr>\n",
       "      <th>4</th>\n",
       "      <td>2015-01-02</td>\n",
       "      <td>552064.800</td>\n",
       "      <td>Cars.go.com</td>\n",
       "    </tr>\n",
       "    <tr>\n",
       "      <th>5</th>\n",
       "      <td>2015-01-02</td>\n",
       "      <td>238344.120</td>\n",
       "      <td>Planes.go.com</td>\n",
       "    </tr>\n",
       "  </tbody>\n",
       "</table>\n",
       "</div>"
      ],
      "text/plain": [
       "        Date     Revenue   Product Line\n",
       "1 2015-01-01  108632.400    Cars.go.com\n",
       "2 2015-01-01   31494.015  Planes.go.com\n",
       "3 2015-01-01  239376.480   Boats.go.com\n",
       "4 2015-01-02  552064.800    Cars.go.com\n",
       "5 2015-01-02  238344.120  Planes.go.com"
      ]
     },
     "execution_count": 223,
     "metadata": {},
     "output_type": "execute_result"
    }
   ],
   "source": [
    "sales.head()"
   ]
  },
  {
   "cell_type": "markdown",
   "id": "0101c080-737e-4734-917e-6c5d3cc3f7fa",
   "metadata": {
    "tags": []
   },
   "source": [
    "### Calculating Q1-2015 Total Revenue for Different Product Lines"
   ]
  },
  {
   "cell_type": "code",
   "execution_count": 224,
   "id": "40c654e1-f743-4aed-82d2-50a8e8a4ccac",
   "metadata": {},
   "outputs": [
    {
     "name": "stdout",
     "output_type": "stream",
     "text": [
      "the total revenue for cars.go.com is 16757524.8 $\n",
      "the total revenue for boats.go.com is 4736347.68 $\n",
      "the total revenue for planes.go.com is 32529742.56 $\n"
     ]
    }
   ],
   "source": [
    "##calculate total revenue for cars.go.com at Q1-2015\n",
    "q1_2015_cars = sales.loc[sales[\"Product Line\"] == \"Cars.go.com\", \"Revenue\"].sum()\n",
    "print(\"the total revenue for cars.go.com is\", q1_2015_cars, \"$\")\n",
    "\n",
    "\n",
    "##calculate total revenue for boats.go.com at Q1-2015\n",
    "q1_2015_boats = sales.loc[sales[\"Product Line\"] == \"Boats.go.com\", \"Revenue\"].sum()\n",
    "print(\"the total revenue for boats.go.com is\", q1_2015_boats, \"$\")\n",
    "\n",
    "\n",
    "##calculate total revenue for planes.go.com at Q1-2015\n",
    "q1_2015_planes = sales.loc[sales[\"Product Line\"] == \"Planes.go.com\", \"Revenue\"].sum()\n",
    "print(\"the total revenue for planes.go.com is\", q1_2015_planes, \"$\")"
   ]
  },
  {
   "cell_type": "markdown",
   "id": "33cef9cf-a748-453e-acae-38ceb4c083bd",
   "metadata": {},
   "source": [
    "### Regression Plot for Different Product Lines"
   ]
  },
  {
   "cell_type": "code",
   "execution_count": 225,
   "id": "803e5e64-e80b-4316-8324-cd9de97bdcb6",
   "metadata": {},
   "outputs": [
    {
     "data": {
      "text/plain": [
       "<seaborn.axisgrid.PairGrid at 0x7fb93744cac0>"
      ]
     },
     "execution_count": 225,
     "metadata": {},
     "output_type": "execute_result"
    },
    {
     "data": {
      "image/png": "[encoded data removed]",
      "text/plain": [
       "<Figure size 468.625x360 with 1 Axes>"
      ]
     },
     "metadata": {
      "needs_background": "light"
     },
     "output_type": "display_data"
    }
   ],
   "source": [
    "##we have a positive regression between Revenue and Profit\n",
    "sns.pairplot(data=df, x_vars=\"Revenue\" , y_vars=\"Profit\", kind=\"reg\", hue=\"Product_Line\", size=5, aspect=1).set(title=\"Revenue vs Profit\")"
   ]
  },
  {
   "cell_type": "markdown",
   "id": "70830051-7a17-4ec9-9c82-6fa6eed73b6d",
   "metadata": {},
   "source": [
    "### Creating a Simple Linear Regression Model"
   ]
  },
  {
   "cell_type": "code",
   "execution_count": 226,
   "id": "9c293320-be32-4767-bb2f-c5e8cfec407e",
   "metadata": {},
   "outputs": [],
   "source": [
    "##filtering the dataset by product line\n",
    "df_cars = df[df[\"Product_Line\"] == \"Cars.go.com\"]\n",
    "df_planes = df[df[\"Product_Line\"] == \"Planes.go.com\"]\n",
    "df_boats = df[df[\"Product_Line\"] == \"Boats.go.com\"]"
   ]
  },
  {
   "cell_type": "code",
   "execution_count": 227,
   "id": "f9fb91a0-5b4f-47ca-9d70-988e173702d9",
   "metadata": {},
   "outputs": [
    {
     "data": {
      "text/plain": [
       "LinearRegression()"
      ]
     },
     "execution_count": 227,
     "metadata": {},
     "output_type": "execute_result"
    }
   ],
   "source": [
    "##creating a linear regression model for each product line\n",
    "from sklearn.linear_model import LinearRegression\n",
    "lr_cars = LinearRegression()\n",
    "lr_cars.fit(df_cars[['Revenue']], df_cars['Profit'])\n",
    "\n",
    "lr_planes = LinearRegression()\n",
    "lr_planes.fit(df_planes[['Revenue']], df_planes['Profit'])\n",
    "\n",
    "lr_boats = LinearRegression()\n",
    "lr_boats.fit(df_boats[['Revenue']], df_boats['Profit'])"
   ]
  },
  {
   "cell_type": "markdown",
   "id": "ed5b4bbe-d31d-47d8-b056-3bd0159306ed",
   "metadata": {},
   "source": [
    "### Predicting Q1-2015 Profit Amount For Each Product Line"
   ]
  },
  {
   "cell_type": "code",
   "execution_count": 228,
   "id": "f9825afc-12aa-4080-98c4-2f2d29a19884",
   "metadata": {},
   "outputs": [
    {
     "name": "stdout",
     "output_type": "stream",
     "text": [
      "the predicted Q1-2015 profit for cars.go.com is 1675752 $\n"
     ]
    }
   ],
   "source": [
    "##prediction of q1-2015 profit for cars.go.com\n",
    "car_profit = lr_cars.predict([[q1_2015_cars]]).tolist()[0]\n",
    "print(\"the predicted Q1-2015 profit for cars.go.com is\", round(car_profit), \"$\")"
   ]
  },
  {
   "cell_type": "code",
   "execution_count": 229,
   "id": "8f256cac-e549-4edf-a1f1-da5b6a2d5ce8",
   "metadata": {},
   "outputs": [
    {
     "name": "stdout",
     "output_type": "stream",
     "text": [
      "the predicted Q1-2015 profit for planes.go.com is 162649 $\n"
     ]
    }
   ],
   "source": [
    "##prediction of q1-2015 profit for planes.go.com\n",
    "plane_profit = lr_planes.predict([[q1_2015_planes]]).tolist()[0]\n",
    "print(\"the predicted Q1-2015 profit for planes.go.com is\", round(plane_profit), \"$\")"
   ]
  },
  {
   "cell_type": "code",
   "execution_count": 230,
   "id": "d79baae6-06b7-4a6f-8bf8-f897ea1e6ddd",
   "metadata": {},
   "outputs": [
    {
     "name": "stdout",
     "output_type": "stream",
     "text": [
      "the predicted Q1-2015 profit for boats.go.com is 94727 $\n"
     ]
    }
   ],
   "source": [
    "##prediction of q1-2015 profit for boats.go.com\n",
    "boat_profit = lr_boats.predict([[q1_2015_boats]]).tolist()[0]\n",
    "print(\"the predicted Q1-2015 profit for boats.go.com is\", round(boat_profit), \"$\")"
   ]
  },
  {
   "cell_type": "markdown",
   "id": "c74eab5d-a0f8-4ce1-a8bf-cdc64375b250",
   "metadata": {},
   "source": [
    "### Finding the Total Profit for Q1-2015"
   ]
  },
  {
   "cell_type": "code",
   "execution_count": 231,
   "id": "7cbf95f6-c9c7-45ec-9f10-53f803165a3b",
   "metadata": {},
   "outputs": [
    {
     "name": "stdout",
     "output_type": "stream",
     "text": [
      "    Quarter   Product_Line      Revenue        Profit\n",
      "1   Q4 2013    Cars.go.com   6085063.00  6.085063e+05\n",
      "2   Q1 2014    Cars.go.com   5663582.00  5.663582e+05\n",
      "3   Q2 2014    Cars.go.com   5701994.00  5.701994e+05\n",
      "4   Q3 2014    Cars.go.com   5691910.00  5.691910e+05\n",
      "5   Q4 2014    Cars.go.com   5906352.00  5.906352e+05\n",
      "6   Q4 2013  Planes.go.com  32339403.00  1.616970e+05\n",
      "7   Q1 2014  Planes.go.com  34861524.00  1.743076e+05\n",
      "8   Q2 2014  Planes.go.com  36039564.00  1.801978e+05\n",
      "9   Q3 2014  Planes.go.com  34422242.00  1.721112e+05\n",
      "10  Q4 2014  Planes.go.com  45337642.00  2.266882e+05\n",
      "11  Q4 2013   Boats.go.com   4329578.00  8.659156e+04\n",
      "12  Q1 2014   Boats.go.com   4418088.00  8.836176e+04\n",
      "13  Q2 2014   Boats.go.com   4657184.00  9.314368e+04\n",
      "14  Q3 2014   Boats.go.com   4597765.00  9.195530e+04\n",
      "15  Q4 2014   Boats.go.com   5437214.00  1.087443e+05\n",
      "16  Q1 2015    Cars.go.com  16757524.80  1.675752e+06\n",
      "17  Q1 2015  Planes.go.com  32529742.56  1.626487e+05\n",
      "18  Q1 2015   Boats.go.com   4736347.68  9.472695e+04\n"
     ]
    }
   ],
   "source": [
    "##creating a new df2 with the revenue and profit amounts for Q1-2015, and\n",
    "## adding them to our dataset\n",
    "df2 = pd.DataFrame([[\"Q1 2015\", \"Cars.go.com\", q1_2015_cars, car_profit],\n",
    "                   [\"Q1 2015\", \"Planes.go.com\", q1_2015_planes, plane_profit],\n",
    "                   [\"Q1 2015\", \"Boats.go.com\", q1_2015_boats, boat_profit]],\n",
    "                   columns=['Quarter','Product_Line','Revenue', 'Profit'])\n",
    "\n",
    "frames = [df, df2]\n",
    "df = pd.concat(frames, ignore_index=True)\n",
    "df.index = df.index+1\n",
    "print(df)"
   ]
  },
  {
   "cell_type": "code",
   "execution_count": 232,
   "id": "f7f32ca3-d77c-4b54-8bd1-afb9ecc0fde7",
   "metadata": {},
   "outputs": [
    {
     "name": "stdout",
     "output_type": "stream",
     "text": [
      "the total predicted Q1-2015 profit is 1933128 $\n"
     ]
    }
   ],
   "source": [
    "print(\"the total predicted Q1-2015 profit is\", round(df.loc[df[\"Quarter\"] == \"Q1 2015\", \"Profit\"].sum()), \"$\")"
   ]
  }
 ],
 "metadata": {
  "kernelspec": {
   "display_name": "Python 3 (ipykernel)",
   "language": "python",
   "name": "python3"
  },
  "language_info": {
   "codemirror_mode": {
    "name": "ipython",
    "version": 3
   },
   "file_extension": ".py",
   "mimetype": "text/x-python",
   "name": "python",
   "nbconvert_exporter": "python",
   "pygments_lexer": "ipython3",
   "version": "3.8.2"
  }
 },
 "nbformat": 4,
 "nbformat_minor": 5
}
